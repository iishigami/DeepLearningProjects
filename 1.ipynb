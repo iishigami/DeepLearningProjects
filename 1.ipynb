{
  "nbformat": 4,
  "nbformat_minor": 0,
  "metadata": {
    "colab": {
      "provenance": [],
      "mount_file_id": "1p3ydEKcJ5EGYLeZOErPozBOGS06U1Tsi",
      "authorship_tag": "ABX9TyO1rvmjlbxKXwzj1isJDInX",
      "include_colab_link": true
    },
    "kernelspec": {
      "name": "python3",
      "display_name": "Python 3"
    },
    "language_info": {
      "name": "python"
    },
    "accelerator": "GPU",
    "gpuClass": "standard"
  },
  "cells": [
    {
      "cell_type": "markdown",
      "metadata": {
        "id": "view-in-github",
        "colab_type": "text"
      },
      "source": [
        "<a href=\"https://colab.research.google.com/github/champsleague/DeepLearning/blob/main/DL_01.ipynb\" target=\"_parent\"><img src=\"https://colab.research.google.com/assets/colab-badge.svg\" alt=\"Open In Colab\"/></a>"
      ]
    },
    {
      "cell_type": "code",
      "execution_count": null,
      "metadata": {
        "id": "MugTm95CvsJ6"
      },
      "outputs": [],
      "source": [
        "!cat /proc/meminfo"
      ]
    },
    {
      "cell_type": "code",
      "source": [
        "!cat /proc/cpuinfo"
      ],
      "metadata": {
        "id": "qtNA8XB9wfIJ"
      },
      "execution_count": null,
      "outputs": []
    },
    {
      "cell_type": "code",
      "source": [
        "import torch\n",
        "import torch.nn as nn\n",
        "import torchvision.datasets as dsets"
      ],
      "metadata": {
        "id": "L2rVcttgwmaI"
      },
      "execution_count": null,
      "outputs": []
    },
    {
      "cell_type": "code",
      "source": [
        "# 1D Array with Pytorch\n",
        "\n",
        "import torch\n",
        "t = torch.FloatTensor([0., 1., 2., 3., 4., 5., 6.])\n",
        "print(t)"
      ],
      "metadata": {
        "colab": {
          "base_uri": "https://localhost:8080/"
        },
        "id": "yWLv7Q7nz1aj",
        "outputId": "063a110f-36e9-4452-cab5-e41477f6c980"
      },
      "execution_count": null,
      "outputs": [
        {
          "output_type": "stream",
          "name": "stdout",
          "text": [
            "tensor([0., 1., 2., 3., 4., 5., 6.])\n"
          ]
        }
      ]
    },
    {
      "cell_type": "code",
      "source": [
        "print(t.dim()) #rank\n",
        "print(t.shape) #shape\n",
        "print(t.size()) #size\n",
        "print(t[0], t[1], t[-1]) #Element\n",
        "print(t[2:5], t[4:-1]) #Slicing\n",
        "print(t[:2], t[3:]) #Slicing"
      ],
      "metadata": {
        "colab": {
          "base_uri": "https://localhost:8080/"
        },
        "id": "HADErvY_4zlJ",
        "outputId": "421721a4-d475-4bf3-d444-440a071669ea"
      },
      "execution_count": null,
      "outputs": [
        {
          "output_type": "stream",
          "name": "stdout",
          "text": [
            "1\n",
            "torch.Size([7])\n",
            "torch.Size([7])\n",
            "tensor(0.) tensor(1.) tensor(6.)\n",
            "tensor([2., 3., 4.]) tensor([4., 5.])\n",
            "tensor([0., 1.]) tensor([3., 4., 5., 6.])\n"
          ]
        }
      ]
    },
    {
      "cell_type": "code",
      "source": [
        "# 2D Array with Pytorch\n",
        "\n",
        "t = torch.FloatTensor([[1., 2., 3.],\n",
        "                       [4., 5., 6.],\n",
        "                       [7., 8., 9.],\n",
        "                       [10., 11., 12.]\n",
        "                       ])\n",
        "print(t)"
      ],
      "metadata": {
        "colab": {
          "base_uri": "https://localhost:8080/"
        },
        "id": "arDoYWU45F1C",
        "outputId": "c5030391-2766-46de-991a-bf0463e8fe27"
      },
      "execution_count": null,
      "outputs": [
        {
          "output_type": "stream",
          "name": "stdout",
          "text": [
            "tensor([[ 1.,  2.,  3.],\n",
            "        [ 4.,  5.,  6.],\n",
            "        [ 7.,  8.,  9.],\n",
            "        [10., 11., 12.]])\n"
          ]
        }
      ]
    },
    {
      "cell_type": "code",
      "source": [
        "print(t.dim())\n",
        "print(t.size())  #shape\n",
        "print(t[:,1])\n",
        "print(t[:,1].size())\n",
        "print(t[:, :-1])"
      ],
      "metadata": {
        "colab": {
          "base_uri": "https://localhost:8080/"
        },
        "id": "xElpYGzo6B6J",
        "outputId": "e8c57ff8-a8fd-4803-fdbb-be8c35d1c37e"
      },
      "execution_count": null,
      "outputs": [
        {
          "output_type": "stream",
          "name": "stdout",
          "text": [
            "2\n",
            "torch.Size([4, 3])\n",
            "tensor([ 2.,  5.,  8., 11.])\n",
            "torch.Size([4])\n",
            "tensor([[ 1.,  2.],\n",
            "        [ 4.,  5.],\n",
            "        [ 7.,  8.],\n",
            "        [10., 11.]])\n"
          ]
        }
      ]
    },
    {
      "cell_type": "code",
      "source": [
        "import numpy as np\n",
        "\n",
        "t = np.array([[[0,1,2],\n",
        "              [3,4,5]],\n",
        "             \n",
        "             [[6,7,8],\n",
        "              [9,10,11]]])\n",
        "ft = torch.FloatTensor(t)\n",
        "print(ft.shape)\n",
        "\n",
        "\n",
        "import torchvision\n",
        "\n",
        "t2 = np.array([[[0,1,2],[3,4,5]],[[6,7,8],[9,10,11]]])\n",
        "ft2 = torch.from_numpy(t2).float()\n",
        "\n",
        "print(ft2.shape)"
      ],
      "metadata": {
        "colab": {
          "base_uri": "https://localhost:8080/"
        },
        "id": "p4x5NoaW6R7A",
        "outputId": "cf0baabd-ea5c-45e1-e946-c3a60642e556"
      },
      "execution_count": null,
      "outputs": [
        {
          "output_type": "stream",
          "name": "stdout",
          "text": [
            "torch.Size([2, 2, 3])\n",
            "torch.Size([2, 2, 3])\n"
          ]
        }
      ]
    },
    {
      "cell_type": "code",
      "source": [
        "# Broadcasting\n",
        "\n",
        "import numpy as np\n",
        "import torch\n",
        "\n",
        "# Same shape\n",
        "m1 = torch.FloatTensor([[3,3]])\n",
        "m2 = torch.FloatTensor([[2,2]])\n",
        "print(m1+m2)"
      ],
      "metadata": {
        "colab": {
          "base_uri": "https://localhost:8080/"
        },
        "id": "dGSWH4Gj70eV",
        "outputId": "2a72d516-2cf3-4faf-fa97-6d7a3399d530"
      },
      "execution_count": null,
      "outputs": [
        {
          "output_type": "stream",
          "name": "stdout",
          "text": [
            "tensor([[5., 5.]])\n"
          ]
        }
      ]
    },
    {
      "cell_type": "code",
      "source": [
        "# Vector + Scalar\n",
        "m1 = torch.FloatTensor([[1,2]])\n",
        "m2 = torch.FloatTensor([3])\n",
        "print(m1)\n",
        "print(m2)\n",
        "print(m1+m2) # m2:3 -> [[3,3]]"
      ],
      "metadata": {
        "colab": {
          "base_uri": "https://localhost:8080/"
        },
        "id": "fA9EEB9S7-D1",
        "outputId": "7ea350dd-adfa-4f8e-ed6a-d03316985f03"
      },
      "execution_count": null,
      "outputs": [
        {
          "output_type": "stream",
          "name": "stdout",
          "text": [
            "tensor([[1., 2.]])\n",
            "tensor([3.])\n",
            "tensor([[4., 5.]])\n"
          ]
        }
      ]
    },
    {
      "cell_type": "code",
      "source": [
        "# 2 x 1 Vector + 1 x 2 Vector\n",
        "m1 = torch.FloatTensor([[1,2]])\n",
        "m2 = torch.FloatTensor([[3],[4]])\n",
        "print(m1)\n",
        "print(m2)\n",
        "print(m1+m2)\n"
      ],
      "metadata": {
        "colab": {
          "base_uri": "https://localhost:8080/"
        },
        "id": "b6_yjDEM8Osu",
        "outputId": "f09e40e5-8ccc-4278-a18e-3f30858e1865"
      },
      "execution_count": null,
      "outputs": [
        {
          "output_type": "stream",
          "name": "stdout",
          "text": [
            "tensor([[1., 2.]])\n",
            "tensor([[3.],\n",
            "        [4.]])\n",
            "tensor([[4., 5.],\n",
            "        [5., 6.]])\n"
          ]
        }
      ]
    },
    {
      "cell_type": "code",
      "source": [
        "#Mul vs Matmul\n",
        "\n",
        "m1 = torch.FloatTensor([[1,2],[3,4]])\n",
        "m2 = torch.FloatTensor([[1],[2]])\n",
        "print('Shape of Matrix 1: ', m1.shape)\n",
        "print('Shape of Matrix 2: ', m2.shape)\n",
        "print(m1.matmul(m2))\n",
        "\n",
        "print(\"\\n\")\n",
        "\n",
        "m1 = torch.FloatTensor([[1,2], [3,4]])\n",
        "m2 = torch.FloatTensor([[1], [2]])\n",
        "print('Shape of Matrix 1 : ',m1.shape)\n",
        "print('Shape of Matrix 2 : ',m2.shape)\n",
        "print(m1*m2)\n",
        "print(m1.mul(m2))"
      ],
      "metadata": {
        "colab": {
          "base_uri": "https://localhost:8080/"
        },
        "id": "tKV6owHK8rHW",
        "outputId": "115dc7ba-98bf-48a2-c840-54fa62569c44"
      },
      "execution_count": null,
      "outputs": [
        {
          "output_type": "stream",
          "name": "stdout",
          "text": [
            "Shape of Matrix 1:  torch.Size([2, 2])\n",
            "Shape of Matrix 2:  torch.Size([2, 1])\n",
            "tensor([[ 5.],\n",
            "        [11.]])\n",
            "\n",
            "\n",
            "Shape of Matrix 1 :  torch.Size([2, 2])\n",
            "Shape of Matrix 2 :  torch.Size([2, 1])\n",
            "tensor([[1., 2.],\n",
            "        [6., 8.]])\n",
            "tensor([[1., 2.],\n",
            "        [6., 8.]])\n"
          ]
        }
      ]
    },
    {
      "cell_type": "code",
      "source": [
        "# Mean\n",
        "\n",
        "t = torch.FloatTensor([[1,2],[3,4]])\n",
        "print(t)"
      ],
      "metadata": {
        "colab": {
          "base_uri": "https://localhost:8080/"
        },
        "id": "DFhayECuFVPo",
        "outputId": "73e831b5-a25e-4ecf-b259-dbdfbe67bae4"
      },
      "execution_count": null,
      "outputs": [
        {
          "output_type": "stream",
          "name": "stdout",
          "text": [
            "tensor([[1., 2.],\n",
            "        [3., 4.]])\n"
          ]
        }
      ]
    },
    {
      "cell_type": "code",
      "source": [
        "print(t.mean())\n",
        "print(t.mean(dim=0))\n",
        "print(t.mean(dim=1))\n",
        "print(t.mean(dim=-1))"
      ],
      "metadata": {
        "colab": {
          "base_uri": "https://localhost:8080/"
        },
        "id": "i21YGfXZFfqm",
        "outputId": "bdbfa51c-0f84-432c-9727-323f3b3aebfa"
      },
      "execution_count": null,
      "outputs": [
        {
          "output_type": "stream",
          "name": "stdout",
          "text": [
            "tensor(2.5000)\n",
            "tensor([2., 3.])\n",
            "tensor([1.5000, 3.5000])\n",
            "tensor([1.5000, 3.5000])\n"
          ]
        }
      ]
    },
    {
      "cell_type": "code",
      "source": [
        "# Sum\n",
        "\n",
        "t = torch.FloatTensor([[1,2],[3,4]])\n",
        "print(t)"
      ],
      "metadata": {
        "colab": {
          "base_uri": "https://localhost:8080/"
        },
        "id": "-VMFTuUCFx_n",
        "outputId": "cd6dce5b-8e90-44c1-b38d-0ba591af3847"
      },
      "execution_count": null,
      "outputs": [
        {
          "output_type": "stream",
          "name": "stdout",
          "text": [
            "tensor([[1., 2.],\n",
            "        [3., 4.]])\n"
          ]
        }
      ]
    },
    {
      "cell_type": "code",
      "source": [
        "print(t.sum())\n",
        "print(t.sum(dim=0))\n",
        "print(t.sum(dim=1))\n",
        "print(t.sum(dim=-1))"
      ],
      "metadata": {
        "colab": {
          "base_uri": "https://localhost:8080/"
        },
        "id": "637MI-IzGors",
        "outputId": "b6ebab51-6ec1-49a3-fd85-3cb23e603d8d"
      },
      "execution_count": null,
      "outputs": [
        {
          "output_type": "stream",
          "name": "stdout",
          "text": [
            "tensor(10.)\n",
            "tensor([4., 6.])\n",
            "tensor([3., 7.])\n",
            "tensor([3., 7.])\n"
          ]
        }
      ]
    },
    {
      "cell_type": "code",
      "source": [
        "# Max, Argmax\n",
        "\n",
        "t = torch.FloatTensor([[1,2],[3,4]])\n",
        "print(t)"
      ],
      "metadata": {
        "colab": {
          "base_uri": "https://localhost:8080/"
        },
        "id": "n3RBzI2vGtUT",
        "outputId": "748f28e2-d84a-4162-b255-fb30e8db4e24"
      },
      "execution_count": null,
      "outputs": [
        {
          "output_type": "stream",
          "name": "stdout",
          "text": [
            "tensor([[1., 2.],\n",
            "        [3., 4.]])\n"
          ]
        }
      ]
    },
    {
      "cell_type": "code",
      "source": [
        "print(t.max(),'\\n')\n",
        "print(t.max(dim=0),'\\n')  # Returns two values : max and argmax\n",
        "print('Max : ', t.max(dim=0)[0])\n",
        "print('Argmax : ', t.max(dim=0)[1])"
      ],
      "metadata": {
        "colab": {
          "base_uri": "https://localhost:8080/"
        },
        "id": "rIa-J2bGG_hd",
        "outputId": "cb862e0d-5972-47e9-ebed-9d09c80c40ff"
      },
      "execution_count": null,
      "outputs": [
        {
          "output_type": "stream",
          "name": "stdout",
          "text": [
            "tensor(4.) \n",
            "\n",
            "torch.return_types.max(\n",
            "values=tensor([3., 4.]),\n",
            "indices=tensor([1, 1])) \n",
            "\n",
            "Max :  tensor([3., 4.])\n",
            "Argmax :  tensor([1, 1])\n"
          ]
        }
      ]
    },
    {
      "cell_type": "code",
      "source": [
        "print(t.max(dim=1),'\\n')\n",
        "print(t.max(dim=-1))"
      ],
      "metadata": {
        "colab": {
          "base_uri": "https://localhost:8080/"
        },
        "id": "wh16gsC1HVo_",
        "outputId": "3acc3590-c5ae-4c34-d6b6-cae54d16b347"
      },
      "execution_count": null,
      "outputs": [
        {
          "output_type": "stream",
          "name": "stdout",
          "text": [
            "torch.return_types.max(\n",
            "values=tensor([2., 4.]),\n",
            "indices=tensor([1, 1])) \n",
            "\n",
            "torch.return_types.max(\n",
            "values=tensor([2., 4.]),\n",
            "indices=tensor([1, 1]))\n"
          ]
        }
      ]
    },
    {
      "cell_type": "code",
      "source": [
        "# Squeeze\n",
        "\n",
        "ft = torch.FloatTensor([[0],[1],[2]])\n",
        "print(ft)\n",
        "print(ft.shape)"
      ],
      "metadata": {
        "colab": {
          "base_uri": "https://localhost:8080/"
        },
        "id": "f1q7Y5edHiCz",
        "outputId": "3d25a784-8594-4668-ae1b-be3c28e298d3"
      },
      "execution_count": null,
      "outputs": [
        {
          "output_type": "stream",
          "name": "stdout",
          "text": [
            "tensor([[0.],\n",
            "        [1.],\n",
            "        [2.]])\n",
            "torch.Size([3, 1])\n"
          ]
        }
      ]
    },
    {
      "cell_type": "code",
      "source": [
        "print(ft.squeeze())\n",
        "print(ft.squeeze().shape)"
      ],
      "metadata": {
        "colab": {
          "base_uri": "https://localhost:8080/"
        },
        "id": "tr0hYhnKH-bt",
        "outputId": "0f0186a4-af1d-4331-84b8-28f0c8f84c15"
      },
      "execution_count": null,
      "outputs": [
        {
          "output_type": "stream",
          "name": "stdout",
          "text": [
            "tensor([0., 1., 2.])\n",
            "torch.Size([3])\n"
          ]
        }
      ]
    },
    {
      "cell_type": "code",
      "source": [
        "# Unsqueeze\n",
        "\n",
        "ft = torch.Tensor([0,1,2,3])\n",
        "print(ft.shape,'\\n')\n",
        "\n",
        "print(ft.unsqueeze(0))\n",
        "print(ft.unsqueeze(0).shape,'\\n')\n",
        "\n",
        "print(ft.view(-1,4))\n",
        "print(ft.view(-1,4).shape,'\\n')\n",
        "\n",
        "print(ft.unsqueeze(1))\n",
        "print(ft.unsqueeze(1).shape,'\\n')\n",
        "\n",
        "print(ft.unsqueeze(-1))\n",
        "print(ft.unsqueeze(-1).shape,'\\n')"
      ],
      "metadata": {
        "colab": {
          "base_uri": "https://localhost:8080/"
        },
        "id": "ogxdPV2HIDUi",
        "outputId": "c6fba6c6-f031-40dc-cb05-5f6316b8a3bf"
      },
      "execution_count": null,
      "outputs": [
        {
          "output_type": "stream",
          "name": "stdout",
          "text": [
            "torch.Size([4]) \n",
            "\n",
            "tensor([[0., 1., 2., 3.]])\n",
            "torch.Size([1, 4]) \n",
            "\n",
            "tensor([[0., 1., 2., 3.]])\n",
            "torch.Size([1, 4]) \n",
            "\n",
            "tensor([[0.],\n",
            "        [1.],\n",
            "        [2.],\n",
            "        [3.]])\n",
            "torch.Size([4, 1]) \n",
            "\n",
            "tensor([[0.],\n",
            "        [1.],\n",
            "        [2.],\n",
            "        [3.]])\n",
            "torch.Size([4, 1]) \n",
            "\n"
          ]
        }
      ]
    },
    {
      "cell_type": "code",
      "source": [
        "# Type Casting\n",
        "\n",
        "lt = torch.LongTensor([1,2,3,4])\n",
        "print(lt)\n",
        "\n",
        "print(lt.float())\n",
        "\n",
        "bt = torch.ByteTensor([True, False, False, True])\n",
        "print(bt)\n",
        "\n",
        "print(bt.long())\n",
        "print(bt.float())"
      ],
      "metadata": {
        "colab": {
          "base_uri": "https://localhost:8080/"
        },
        "id": "My4lxIrFJSUY",
        "outputId": "a96dc223-e9d8-4827-fcce-03149487b4ba"
      },
      "execution_count": null,
      "outputs": [
        {
          "output_type": "stream",
          "name": "stdout",
          "text": [
            "tensor([1, 2, 3, 4])\n",
            "tensor([1., 2., 3., 4.])\n",
            "tensor([1, 0, 0, 1], dtype=torch.uint8)\n",
            "tensor([1, 0, 0, 1])\n",
            "tensor([1., 0., 0., 1.])\n"
          ]
        }
      ]
    },
    {
      "cell_type": "code",
      "source": [
        "# Concatenate\n",
        "\n",
        "x = torch.FloatTensor([[1,2],[3,4]])\n",
        "y = torch.FloatTensor([[5,6],[7,8]])\n",
        "\n",
        "print(torch.cat([x,y],dim=0))\n",
        "print(torch.cat([x,y],dim=1))"
      ],
      "metadata": {
        "colab": {
          "base_uri": "https://localhost:8080/"
        },
        "id": "7n6vISe3MXu6",
        "outputId": "f83fb9df-40b6-4dd7-fcbd-377fc99dfc2b"
      },
      "execution_count": null,
      "outputs": [
        {
          "output_type": "stream",
          "name": "stdout",
          "text": [
            "tensor([[1., 2.],\n",
            "        [3., 4.],\n",
            "        [5., 6.],\n",
            "        [7., 8.]])\n",
            "tensor([[1., 2., 5., 6.],\n",
            "        [3., 4., 7., 8.]])\n"
          ]
        }
      ]
    },
    {
      "cell_type": "code",
      "source": [
        "# Stacking\n",
        "\n",
        "x = torch.FloatTensor([1,4])\n",
        "y = torch.FloatTensor([2,5])\n",
        "z = torch.FloatTensor([3,6])\n",
        "\n",
        "print(torch.stack([x,y,z]))\n",
        "print(torch.stack([x,y,z], dim=1))"
      ],
      "metadata": {
        "colab": {
          "base_uri": "https://localhost:8080/"
        },
        "id": "sf7xOJ2CMlxo",
        "outputId": "fe73459b-87c4-4691-b7f7-3f548f17894f"
      },
      "execution_count": null,
      "outputs": [
        {
          "output_type": "stream",
          "name": "stdout",
          "text": [
            "tensor([[1., 4.],\n",
            "        [2., 5.],\n",
            "        [3., 6.]])\n",
            "tensor([[1., 2., 3.],\n",
            "        [4., 5., 6.]])\n"
          ]
        }
      ]
    },
    {
      "cell_type": "code",
      "source": [
        "# Ones and Zeros\n",
        "\n",
        "x = torch.FloatTensor([[0,1,2], [2,1,0]])\n",
        "print(x,'\\n')\n",
        "\n",
        "print(torch.ones_like(x))\n",
        "print(torch.zeros_like(x))"
      ],
      "metadata": {
        "colab": {
          "base_uri": "https://localhost:8080/"
        },
        "id": "ANV_46hXM4qj",
        "outputId": "a425e5f5-b3dc-4d47-9093-504ab1629de1"
      },
      "execution_count": null,
      "outputs": [
        {
          "output_type": "stream",
          "name": "stdout",
          "text": [
            "tensor([[0., 1., 2.],\n",
            "        [2., 1., 0.]]) \n",
            "\n",
            "tensor([[1., 1., 1.],\n",
            "        [1., 1., 1.]])\n",
            "tensor([[0., 0., 0.],\n",
            "        [0., 0., 0.]])\n"
          ]
        }
      ]
    },
    {
      "cell_type": "code",
      "source": [
        "# In-place Operation\n",
        "\n",
        "x = torch.FloatTensor([[1,2],[3,4]])\n",
        "\n",
        "print(x.mul(2.))\n",
        "print(x)\n",
        "print(x.mul_(2.))\n",
        "print(x)"
      ],
      "metadata": {
        "colab": {
          "base_uri": "https://localhost:8080/"
        },
        "id": "iaDpHdmgNMId",
        "outputId": "2e4e4e2d-9d70-46b1-e300-47dc8167c7ba"
      },
      "execution_count": null,
      "outputs": [
        {
          "output_type": "stream",
          "name": "stdout",
          "text": [
            "tensor([[2., 4.],\n",
            "        [6., 8.]])\n",
            "tensor([[1., 2.],\n",
            "        [3., 4.]])\n",
            "tensor([[2., 4.],\n",
            "        [6., 8.]])\n",
            "tensor([[2., 4.],\n",
            "        [6., 8.]])\n"
          ]
        }
      ]
    }
  ]
}
